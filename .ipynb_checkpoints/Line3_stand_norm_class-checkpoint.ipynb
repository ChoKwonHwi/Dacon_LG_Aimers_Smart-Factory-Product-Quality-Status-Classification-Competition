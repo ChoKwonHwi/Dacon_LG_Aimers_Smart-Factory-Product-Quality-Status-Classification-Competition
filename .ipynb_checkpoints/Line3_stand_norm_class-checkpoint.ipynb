{
 "cells": [
  {
   "cell_type": "code",
   "execution_count": null,
   "id": "67be75b5",
   "metadata": {},
   "outputs": [],
   "source": [
    "import pandas as pd\n",
    "import numpy as np\n",
    "import matplotlib.pyplot as plt\n",
    "import seaborn as sns\n",
    "import xgboost as xgb\n",
    "import lightgbm as lgb\n",
    "import statsmodels.api as sm\n",
    "import warnings\n",
    "import shap\n",
    "from sklearn.preprocessing import StandardScaler\n",
    "\n",
    "from sklearn.preprocessing import MinMaxScaler\n",
    "from sklearn.model_selection import StratifiedKFold\n",
    "from pycaret.regression import *\n",
    "from xgboost import XGBRegressor\n",
    "from xgboost import XGBClassifier\n",
    "from sklearn.tree import ExtraTreeClassifier\n",
    "from sklearn.tree import ExtraTreeRegressor\n",
    "from sklearn.experimental import enable_iterative_imputer \n",
    "from sklearn.impute import KNNImputer\n",
    "from sklearn.impute import IterativeImputer\n",
    "from sklearn.ensemble import GradientBoostingClassifier\n",
    "from sklearn.ensemble import GradientBoostingRegressor\n",
    "from sklearn.tree import DecisionTreeClassifier\n",
    "from sklearn.svm import SVC\n",
    "from sklearn.preprocessing import MinMaxScaler\n",
    "from sklearn.preprocessing import OneHotEncoder\n",
    "from sklearn.preprocessing import LabelEncoder\n",
    "from sklearn.model_selection import train_test_split\n",
    "from sklearn.model_selection import GridSearchCV\n",
    "from sklearn.model_selection import RandomizedSearchCV\n",
    "from sklearn.ensemble import RandomForestClassifier\n",
    "from sklearn.ensemble import RandomForestRegressor\n",
    "from catboost import CatBoostClassifier, Pool\n",
    "from sklearn.ensemble import AdaBoostClassifier\n",
    "from sklearn.ensemble import AdaBoostRegressor\n",
    "from catboost import CatBoostRegressor\n",
    "from catboost import CatBoostClassifier\n",
    "from sklearn.metrics import mean_squared_error\n",
    "from sklearn.impute import KNNImputer"
   ]
  },
  {
   "cell_type": "code",
   "execution_count": null,
   "id": "0abb0c1d",
   "metadata": {},
   "outputs": [],
   "source": [
    "warnings.simplefilter(action='ignore')\n",
    "pd.set_option('display.max_columns', None)"
   ]
  },
  {
   "cell_type": "code",
   "execution_count": null,
   "id": "80cc7592",
   "metadata": {},
   "outputs": [],
   "source": []
  },
  {
   "cell_type": "code",
   "execution_count": null,
   "id": "15976060",
   "metadata": {},
   "outputs": [],
   "source": [
    "train_data = pd.read_csv(\"./train.csv\")\n",
    "train_data"
   ]
  },
  {
   "cell_type": "code",
   "execution_count": null,
   "id": "123c344a",
   "metadata": {},
   "outputs": [],
   "source": [
    "colls = []\n",
    "for coll in train_data :\n",
    "    if 'X' in coll and train_data[coll].isna().sum() == 598 :\n",
    "        colls.append(coll)\n",
    "print(len(colls))"
   ]
  },
  {
   "cell_type": "code",
   "execution_count": null,
   "id": "39c65d02",
   "metadata": {},
   "outputs": [],
   "source": [
    "train_data.drop(colls, inplace = True, axis = 1)"
   ]
  },
  {
   "cell_type": "code",
   "execution_count": null,
   "id": "bbe3c073",
   "metadata": {},
   "outputs": [],
   "source": [
    "train_data.loc[train_data.PRODUCT_CODE == 'A_31','PRODUCT_CODE'] = 1\n",
    "train_data.loc[train_data.PRODUCT_CODE == 'T_31','PRODUCT_CODE'] = 2\n",
    "train_data.loc[train_data.PRODUCT_CODE == 'O_31','PRODUCT_CODE'] = 3\n",
    "\n",
    "train_data.drop(['PRODUCT_ID', 'TIMESTAMP'], axis = 1, inplace = True)\n",
    "train_data"
   ]
  },
  {
   "cell_type": "code",
   "execution_count": null,
   "id": "b03a50e3",
   "metadata": {},
   "outputs": [],
   "source": [
    "T05 = train_data[(train_data['LINE'] == 'T050304')|(train_data['LINE'] == 'T050307')]\n",
    "T01 = train_data[(train_data['LINE'] == 'T010305')|(train_data['LINE'] == 'T010306')]\n",
    "T10 = train_data[(train_data['LINE'] == 'T100304')|(train_data['LINE'] == 'T100306')]"
   ]
  },
  {
   "cell_type": "code",
   "execution_count": null,
   "id": "a27169d6",
   "metadata": {},
   "outputs": [],
   "source": [
    "T05.drop(['LINE'], axis = 1, inplace = True)\n",
    "T01.drop(['LINE'], axis = 1, inplace = True)\n",
    "T10.drop(['LINE'], axis = 1, inplace = True)"
   ]
  },
  {
   "cell_type": "code",
   "execution_count": null,
   "id": "d74f8d84",
   "metadata": {},
   "outputs": [],
   "source": [
    "T05_col = []\n",
    "for col in T05 :\n",
    "    if 'X' in col and T05[col].isna().sum() == len(T05) :\n",
    "        T05_col.append(col)\n",
    "print(len(T05_col))\n",
    "\n",
    "T05.drop(T05_col, inplace = True, axis = 1)"
   ]
  },
  {
   "cell_type": "code",
   "execution_count": null,
   "id": "75bfc96d",
   "metadata": {},
   "outputs": [],
   "source": [
    "T01_col = []\n",
    "for col in T01 :\n",
    "    if 'X' in col and T01[col].isna().sum() == len(T01) :\n",
    "        T01_col.append(col)\n",
    "print(len(T01_col))\n",
    "\n",
    "T01.drop(T01_col, inplace = True, axis = 1)"
   ]
  },
  {
   "cell_type": "code",
   "execution_count": null,
   "id": "1556cf34",
   "metadata": {},
   "outputs": [],
   "source": [
    "T10_col = []\n",
    "for col in T10 :\n",
    "    if 'X' in col and T10[col].isna().sum() == len(T10) :\n",
    "        T10_col.append(col)\n",
    "print(len(T10_col))\n",
    "\n",
    "T10.drop(T10_col, inplace = True, axis = 1)"
   ]
  },
  {
   "cell_type": "code",
   "execution_count": null,
   "id": "8e18e364",
   "metadata": {},
   "outputs": [],
   "source": [
    "T05 = T05.fillna(0)\n",
    "T01 = T01.fillna(0)\n",
    "T10 = T10.fillna(0)"
   ]
  },
  {
   "cell_type": "markdown",
   "id": "090e203d",
   "metadata": {},
   "source": [
    "# T05"
   ]
  },
  {
   "cell_type": "code",
   "execution_count": null,
   "id": "19ca338b",
   "metadata": {},
   "outputs": [],
   "source": [
    "T05_class = T05['Y_Class']\n",
    "T05_target = T05['Y_Quality']\n",
    "T05_data = T05.drop(['Y_Class', 'Y_Quality'], axis = 1)\n",
    "T05_data\n",
    "T05_target"
   ]
  },
  {
   "cell_type": "code",
   "execution_count": null,
   "id": "0bf4a0e8",
   "metadata": {},
   "outputs": [],
   "source": [
    "T_05c = T05_data.columns\n",
    "T_05scaler = StandardScaler()\n",
    "T_05scaled = T_05scaler.fit_transform(T05_data)\n",
    "T05_data = pd.DataFrame(T_05scaled, columns = T_05c)\n",
    "T05_data"
   ]
  },
  {
   "cell_type": "code",
   "execution_count": null,
   "id": "02fc6284",
   "metadata": {},
   "outputs": [],
   "source": [
    "T05_y_class = pd.DataFrame(T05_target, columns = ['Y_Quality'])\n",
    "T05_idx = T05_y_class.index\n",
    "T05_y_class = T05_y_class.reset_index()\n",
    "T05_data = pd.concat([T05_data, T05_y_class], axis = 1)\n",
    "T05_data = T05_data.set_index('index')\n",
    "T05_data.drop(['Y_Quality'], axis = 1, inplace = True)\n",
    "T05_data"
   ]
  },
  {
   "cell_type": "code",
   "execution_count": null,
   "id": "42f8aafe",
   "metadata": {},
   "outputs": [],
   "source": [
    "from pycaret.classification import *\n",
    "# 분류 패키지의 모든 모듈을 임포트한다.\n",
    "exp_clf101 = setup(data=T05_data, \n",
    "                   target=T05_class, \n",
    "                   fold=5,\n",
    "                   session_id=414)\n",
    "top5 = compare_models(sort='Accuracy', n_select=5)"
   ]
  },
  {
   "cell_type": "code",
   "execution_count": null,
   "id": "eaeab2ea",
   "metadata": {},
   "outputs": [],
   "source": []
  },
  {
   "cell_type": "code",
   "execution_count": null,
   "id": "4013d483",
   "metadata": {},
   "outputs": [],
   "source": []
  },
  {
   "cell_type": "code",
   "execution_count": null,
   "id": "f95f978e",
   "metadata": {},
   "outputs": [],
   "source": []
  },
  {
   "cell_type": "code",
   "execution_count": null,
   "id": "256219bf",
   "metadata": {},
   "outputs": [],
   "source": []
  },
  {
   "cell_type": "code",
   "execution_count": null,
   "id": "5d8d2ba9",
   "metadata": {},
   "outputs": [],
   "source": []
  },
  {
   "cell_type": "code",
   "execution_count": null,
   "id": "8777069f",
   "metadata": {},
   "outputs": [],
   "source": []
  },
  {
   "cell_type": "code",
   "execution_count": null,
   "id": "785c7143",
   "metadata": {},
   "outputs": [],
   "source": []
  },
  {
   "cell_type": "code",
   "execution_count": null,
   "id": "7c4184a9",
   "metadata": {},
   "outputs": [],
   "source": []
  },
  {
   "cell_type": "code",
   "execution_count": null,
   "id": "831425fb",
   "metadata": {},
   "outputs": [],
   "source": []
  },
  {
   "cell_type": "code",
   "execution_count": null,
   "id": "441c8ed8",
   "metadata": {},
   "outputs": [],
   "source": []
  },
  {
   "cell_type": "code",
   "execution_count": null,
   "id": "b863da76",
   "metadata": {},
   "outputs": [],
   "source": []
  },
  {
   "cell_type": "code",
   "execution_count": null,
   "id": "b2ff697e",
   "metadata": {},
   "outputs": [],
   "source": []
  },
  {
   "cell_type": "code",
   "execution_count": null,
   "id": "558e7340",
   "metadata": {},
   "outputs": [],
   "source": [
    "T01_total_models = []\n",
    "\n",
    "T01_model_lightgbm = create_model('lightgbm', fold = 5)\n",
    "T01_total_models.append(T01_model_lightgbm)\n",
    "\n",
    "T01_model_rf = create_model('rf', fold = 5)\n",
    "T01_total_models.append(T01_model_rf)\n",
    "\n",
    "T01_model_gbc = create_model('gbc', fold = 5)\n",
    "T01_total_models.append(T01_model_gbc)\n",
    "\n",
    "T01_model_et = create_model('et', fold = 5)\n",
    "T01_total_models.append(T01_model_et)\n",
    "\n",
    "T01_model_catboost = create_model('catboost', fold = 5)\n",
    "T01_total_models.append(T01_model_catboost)\n",
    "\n",
    "T01_model_xgb = create_model('xgboost', fold = 5)\n",
    "T01_total_models.append(T01_model_xgb)\n",
    "\n",
    "T01_model_ada = create_model('ada', fold = 5)\n",
    "T01_total_models.append(T01_model_ada)"
   ]
  },
  {
   "cell_type": "code",
   "execution_count": null,
   "id": "7370da85",
   "metadata": {},
   "outputs": [],
   "source": [
    "T01_model_lightgbm = tune_model(T01_model_lightgbm, fold=5, choose_better = True)\n",
    "\n",
    "T01_model_rf = tune_model(T01_model_rf, fold=5, choose_better = True)\n",
    "\n",
    "T01_model_gbc = tune_model(T01_model_gbc, fold=5, choose_better = True)\n",
    "\n",
    "T01_model_et = tune_model(T01_model_et, fold=5, choose_better = True)\n",
    "\n",
    "T01_model_catboost = tune_model(T01_model_catboost, fold=5, choose_better = True)\n",
    "\n",
    "T01_model_xgb = tune_model(T01_model_xgb, fold=5, choose_better = True)\n",
    "\n",
    "T01_model_ada = tune_model(T01_model_ada, fold=5, choose_better = True)"
   ]
  },
  {
   "cell_type": "code",
   "execution_count": null,
   "id": "56c984d1",
   "metadata": {},
   "outputs": [],
   "source": [
    "T01_tuned_models = [T01_model_lightgbm, T01_model_rf, T01_model_gbc, T01_model_et, T01_model_catboost, T01_model_xgb, T01_model_ada]\n",
    "T01_tuned_models"
   ]
  },
  {
   "cell_type": "code",
   "execution_count": null,
   "id": "3f4c2e64",
   "metadata": {},
   "outputs": [],
   "source": [
    "for model in T01_tuned_models:\n",
    "    display(predict_model(model))"
   ]
  },
  {
   "cell_type": "code",
   "execution_count": null,
   "id": "3b3f07f1",
   "metadata": {},
   "outputs": [],
   "source": [
    "T01_final_classification_model = finalize_model(T01_model_et)"
   ]
  },
  {
   "cell_type": "code",
   "execution_count": null,
   "id": "962a9f7e",
   "metadata": {},
   "outputs": [],
   "source": [
    "T01_prediction = predict_model(T01_final_classification_model, data=T01_data)\n",
    "#prediction.drop(['Y_Quality'], axis = 1, inplace = True)"
   ]
  },
  {
   "cell_type": "code",
   "execution_count": null,
   "id": "9e7a03e3",
   "metadata": {},
   "outputs": [],
   "source": []
  },
  {
   "cell_type": "code",
   "execution_count": null,
   "id": "480cfd1a",
   "metadata": {},
   "outputs": [],
   "source": []
  },
  {
   "cell_type": "code",
   "execution_count": null,
   "id": "3fec0492",
   "metadata": {},
   "outputs": [],
   "source": []
  },
  {
   "cell_type": "code",
   "execution_count": null,
   "id": "37e3deeb",
   "metadata": {},
   "outputs": [],
   "source": []
  },
  {
   "cell_type": "code",
   "execution_count": null,
   "id": "73f6f4ab",
   "metadata": {},
   "outputs": [],
   "source": []
  },
  {
   "cell_type": "code",
   "execution_count": null,
   "id": "1557aae8",
   "metadata": {},
   "outputs": [],
   "source": []
  },
  {
   "cell_type": "code",
   "execution_count": null,
   "id": "16edd504",
   "metadata": {},
   "outputs": [],
   "source": []
  },
  {
   "cell_type": "code",
   "execution_count": null,
   "id": "ebf23694",
   "metadata": {},
   "outputs": [],
   "source": []
  },
  {
   "cell_type": "code",
   "execution_count": null,
   "id": "165031b5",
   "metadata": {},
   "outputs": [],
   "source": []
  },
  {
   "cell_type": "code",
   "execution_count": null,
   "id": "53d101e8",
   "metadata": {},
   "outputs": [],
   "source": []
  },
  {
   "cell_type": "code",
   "execution_count": null,
   "id": "a27a3f06",
   "metadata": {},
   "outputs": [],
   "source": []
  },
  {
   "cell_type": "code",
   "execution_count": null,
   "id": "4f35d0dc",
   "metadata": {},
   "outputs": [],
   "source": []
  },
  {
   "cell_type": "code",
   "execution_count": null,
   "id": "946e8168",
   "metadata": {},
   "outputs": [],
   "source": []
  },
  {
   "cell_type": "code",
   "execution_count": null,
   "id": "7f488f4b",
   "metadata": {},
   "outputs": [],
   "source": []
  },
  {
   "cell_type": "code",
   "execution_count": null,
   "id": "0843212d",
   "metadata": {},
   "outputs": [],
   "source": []
  },
  {
   "cell_type": "code",
   "execution_count": null,
   "id": "9ef3aae7",
   "metadata": {},
   "outputs": [],
   "source": []
  },
  {
   "cell_type": "code",
   "execution_count": null,
   "id": "50281d87",
   "metadata": {},
   "outputs": [],
   "source": []
  },
  {
   "cell_type": "code",
   "execution_count": null,
   "id": "9872dd9a",
   "metadata": {},
   "outputs": [],
   "source": []
  },
  {
   "cell_type": "code",
   "execution_count": null,
   "id": "81de1d43",
   "metadata": {},
   "outputs": [],
   "source": []
  },
  {
   "cell_type": "code",
   "execution_count": null,
   "id": "09f4d528",
   "metadata": {},
   "outputs": [],
   "source": []
  },
  {
   "cell_type": "code",
   "execution_count": null,
   "id": "8e8087fb",
   "metadata": {},
   "outputs": [],
   "source": []
  },
  {
   "cell_type": "code",
   "execution_count": null,
   "id": "9a1f7107",
   "metadata": {},
   "outputs": [],
   "source": []
  },
  {
   "cell_type": "code",
   "execution_count": null,
   "id": "a07dbfc9",
   "metadata": {},
   "outputs": [],
   "source": []
  },
  {
   "cell_type": "code",
   "execution_count": null,
   "id": "974c4f87",
   "metadata": {},
   "outputs": [],
   "source": []
  },
  {
   "cell_type": "code",
   "execution_count": null,
   "id": "e43426ec",
   "metadata": {},
   "outputs": [],
   "source": []
  },
  {
   "cell_type": "code",
   "execution_count": null,
   "id": "ffdd3ab2",
   "metadata": {},
   "outputs": [],
   "source": []
  },
  {
   "cell_type": "code",
   "execution_count": null,
   "id": "fbad2cdd",
   "metadata": {},
   "outputs": [],
   "source": []
  },
  {
   "cell_type": "code",
   "execution_count": null,
   "id": "e99e3553",
   "metadata": {},
   "outputs": [],
   "source": []
  },
  {
   "cell_type": "code",
   "execution_count": null,
   "id": "42fc97f6",
   "metadata": {},
   "outputs": [],
   "source": []
  },
  {
   "cell_type": "code",
   "execution_count": null,
   "id": "7d5eeb9d",
   "metadata": {},
   "outputs": [],
   "source": []
  },
  {
   "cell_type": "code",
   "execution_count": null,
   "id": "c7789631",
   "metadata": {},
   "outputs": [],
   "source": []
  },
  {
   "cell_type": "code",
   "execution_count": null,
   "id": "b0d3d000",
   "metadata": {},
   "outputs": [],
   "source": []
  },
  {
   "cell_type": "code",
   "execution_count": null,
   "id": "5f0bc970",
   "metadata": {},
   "outputs": [],
   "source": []
  },
  {
   "cell_type": "code",
   "execution_count": null,
   "id": "3f15347e",
   "metadata": {},
   "outputs": [],
   "source": []
  },
  {
   "cell_type": "code",
   "execution_count": null,
   "id": "a3f471a2",
   "metadata": {},
   "outputs": [],
   "source": []
  },
  {
   "cell_type": "code",
   "execution_count": null,
   "id": "7c9f0358",
   "metadata": {},
   "outputs": [],
   "source": []
  },
  {
   "cell_type": "code",
   "execution_count": null,
   "id": "33124d98",
   "metadata": {},
   "outputs": [],
   "source": []
  },
  {
   "cell_type": "code",
   "execution_count": null,
   "id": "4cb49dee",
   "metadata": {},
   "outputs": [],
   "source": []
  },
  {
   "cell_type": "code",
   "execution_count": null,
   "id": "2498f5f5",
   "metadata": {},
   "outputs": [],
   "source": []
  },
  {
   "cell_type": "code",
   "execution_count": null,
   "id": "97c6f211",
   "metadata": {},
   "outputs": [],
   "source": []
  },
  {
   "cell_type": "code",
   "execution_count": null,
   "id": "3727295a",
   "metadata": {},
   "outputs": [],
   "source": []
  },
  {
   "cell_type": "code",
   "execution_count": null,
   "id": "6fd448b3",
   "metadata": {},
   "outputs": [],
   "source": []
  },
  {
   "cell_type": "code",
   "execution_count": null,
   "id": "7f938c00",
   "metadata": {},
   "outputs": [],
   "source": []
  },
  {
   "cell_type": "code",
   "execution_count": null,
   "id": "97083c2a",
   "metadata": {},
   "outputs": [],
   "source": []
  },
  {
   "cell_type": "code",
   "execution_count": null,
   "id": "4e2cd1c3",
   "metadata": {},
   "outputs": [],
   "source": []
  },
  {
   "cell_type": "code",
   "execution_count": null,
   "id": "5bea86de",
   "metadata": {},
   "outputs": [],
   "source": []
  },
  {
   "cell_type": "code",
   "execution_count": null,
   "id": "c2431a4d",
   "metadata": {},
   "outputs": [],
   "source": []
  },
  {
   "cell_type": "code",
   "execution_count": null,
   "id": "d5d6ccd0",
   "metadata": {},
   "outputs": [],
   "source": []
  }
 ],
 "metadata": {
  "kernelspec": {
   "display_name": "Python 3 (ipykernel)",
   "language": "python",
   "name": "python3"
  },
  "language_info": {
   "codemirror_mode": {
    "name": "ipython",
    "version": 3
   },
   "file_extension": ".py",
   "mimetype": "text/x-python",
   "name": "python",
   "nbconvert_exporter": "python",
   "pygments_lexer": "ipython3",
   "version": "3.9.15"
  }
 },
 "nbformat": 4,
 "nbformat_minor": 5
}
