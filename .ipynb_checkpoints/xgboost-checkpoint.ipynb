{
 "cells": [
  {
   "cell_type": "code",
   "execution_count": null,
   "id": "d778b3ba",
   "metadata": {},
   "outputs": [],
   "source": [
    "import pandas as pd\n",
    "import numpy as np\n",
    "import matplotlib.pyplot as plt\n",
    "import seaborn as sns\n",
    "import xgboost as xgb\n",
    "import lightgbm as lgb\n",
    "import statsmodels.api as sm\n",
    "import warnings\n",
    "import shap\n",
    "import optuna\n",
    "import torch\n",
    "import tensorflow as tf\n",
    "\n",
    "import torch.nn as nn\n",
    "import torch.optim as optim\n",
    "\n",
    "from torch.utils.data import Dataset, DataLoader\n",
    "\n",
    "from sklearn.model_selection import train_test_split\n",
    "from pytorch_tabnet.tab_model import TabNetClassification\n",
    "from tensorflow import feature_column\n",
    "from tensorflow.keras import layers\n",
    "from tqdm.auto import tqdm\n",
    "from pytorch_tabnet.tab_model import TabNetRegressor\n",
    "from sklearn.model_selection import KFold\n",
    "from sklearn.model_selection import cross_validate\n",
    "from sklearn.ensemble import VotingClassifier\n",
    "from sklearn.ensemble import VotingRegressor\n",
    "from sklearn.preprocessing import StandardScaler\n",
    "from sklearn.preprocessing import RobustScaler\n",
    "from sklearn.preprocessing import MinMaxScaler\n",
    "from sklearn.model_selection import StratifiedKFold\n",
    "from pycaret.regression import *\n",
    "from xgboost import XGBRegressor\n",
    "from xgboost import XGBClassifier\n",
    "from sklearn.tree import ExtraTreeClassifier\n",
    "from sklearn.tree import ExtraTreeRegressor\n",
    "from sklearn.experimental import enable_iterative_imputer \n",
    "from sklearn.impute import KNNImputer\n",
    "from sklearn.impute import IterativeImputer\n",
    "from sklearn.ensemble import GradientBoostingClassifier\n",
    "from sklearn.ensemble import GradientBoostingRegressor\n",
    "from sklearn.tree import DecisionTreeClassifier\n",
    "from sklearn.svm import SVC\n",
    "from sklearn.preprocessing import MinMaxScaler\n",
    "from sklearn.preprocessing import OneHotEncoder\n",
    "from sklearn.preprocessing import LabelEncoder\n",
    "from sklearn.model_selection import train_test_split\n",
    "from sklearn.model_selection import GridSearchCV\n",
    "from sklearn.model_selection import RandomizedSearchCV\n",
    "from sklearn.ensemble import RandomForestClassifier\n",
    "from sklearn.ensemble import RandomForestRegressor\n",
    "from catboost import CatBoostClassifier, Pool\n",
    "from sklearn.ensemble import AdaBoostClassifier\n",
    "from sklearn.ensemble import AdaBoostRegressor\n",
    "from catboost import CatBoostRegressor\n",
    "from catboost import CatBoostClassifier\n",
    "from sklearn.metrics import mean_squared_error\n",
    "from sklearn.impute import KNNImputer\n",
    "from sklearn.decomposition import PCA"
   ]
  },
  {
   "cell_type": "code",
   "execution_count": null,
   "id": "d398f0b8",
   "metadata": {},
   "outputs": [],
   "source": [
    "warnings.simplefilter(action='ignore')\n",
    "pd.set_option('display.max_columns', None)"
   ]
  },
  {
   "cell_type": "code",
   "execution_count": null,
   "id": "22f7623b",
   "metadata": {},
   "outputs": [],
   "source": [
    "train_data = pd.read_csv(\"./train.csv\")\n",
    "train_data"
   ]
  },
  {
   "cell_type": "code",
   "execution_count": null,
   "id": "11bc828e",
   "metadata": {},
   "outputs": [],
   "source": [
    "train_data['YEAR'] =  pd.to_datetime(train_data['TIMESTAMP']).dt.year\n",
    "train_data['MONTH'] =  pd.to_datetime(train_data['TIMESTAMP']).dt.month\n",
    "train_data['DAY'] =  pd.to_datetime(train_data['TIMESTAMP']).dt.day\n",
    "train_data['HOUR'] =  pd.to_datetime(train_data['TIMESTAMP']).dt.hour\n",
    "train_data['MINUTE'] =  pd.to_datetime(train_data['TIMESTAMP']).dt.minute\n",
    "train_data['DAY_OF_WEEK'] =  pd.to_datetime(train_data['TIMESTAMP']).dt.day_name()"
   ]
  },
  {
   "cell_type": "code",
   "execution_count": null,
   "id": "8507ddf2",
   "metadata": {},
   "outputs": [],
   "source": [
    "train_data = train_data.drop(['MONTH', 'DAY', 'YEAR', 'MINUTE'], axis = 1)"
   ]
  },
  {
   "cell_type": "code",
   "execution_count": null,
   "id": "108f6c72",
   "metadata": {},
   "outputs": [],
   "source": [
    "colls = []\n",
    "for coll in train_data :\n",
    "    if 'X' in coll and train_data[coll].isna().sum() == 598 :\n",
    "        colls.append(coll)\n",
    "print(len(colls))"
   ]
  },
  {
   "cell_type": "code",
   "execution_count": null,
   "id": "94a7b2d1",
   "metadata": {},
   "outputs": [],
   "source": [
    "train_data.drop(colls, inplace = True, axis = 1)"
   ]
  },
  {
   "cell_type": "code",
   "execution_count": null,
   "id": "166bb817",
   "metadata": {},
   "outputs": [],
   "source": [
    "train_data.loc[train_data.PRODUCT_CODE == 'A_31','PRODUCT_CODE'] = 1\n",
    "train_data.loc[train_data.PRODUCT_CODE == 'T_31','PRODUCT_CODE'] = 2\n",
    "train_data.loc[train_data.PRODUCT_CODE == 'O_31','PRODUCT_CODE'] = 3\n",
    "\n",
    "train_data.loc[train_data.DAY_OF_WEEK == 'Monday','DAY_OF_WEEK'] = 1\n",
    "train_data.loc[train_data.DAY_OF_WEEK == 'Tuesday','DAY_OF_WEEK'] = 2\n",
    "train_data.loc[train_data.DAY_OF_WEEK == 'Wednesday','DAY_OF_WEEK'] = 3\n",
    "train_data.loc[train_data.DAY_OF_WEEK == 'Thursday','DAY_OF_WEEK'] = 4\n",
    "train_data.loc[train_data.DAY_OF_WEEK == 'Friday','DAY_OF_WEEK'] = 5\n",
    "train_data.loc[train_data.DAY_OF_WEEK == 'Saturday','DAY_OF_WEEK'] = 6\n",
    "train_data.loc[train_data.DAY_OF_WEEK == 'Sunday','DAY_OF_WEEK'] = 7\n",
    "\n",
    "train_data.drop(['PRODUCT_ID', 'TIMESTAMP'], axis = 1, inplace = True)\n",
    "train_data"
   ]
  },
  {
   "cell_type": "code",
   "execution_count": null,
   "id": "46fc2a81",
   "metadata": {},
   "outputs": [],
   "source": [
    "T050304 = train_data[train_data['LINE'] == 'T050304']\n",
    "T050307 = train_data[train_data['LINE'] == 'T050307']\n",
    "T010305 = train_data[train_data['LINE'] == 'T010305']\n",
    "T010306 = train_data[train_data['LINE'] == 'T010306']\n",
    "T100304 = train_data[train_data['LINE'] == 'T100304']\n",
    "T100306 = train_data[train_data['LINE'] == 'T100306']"
   ]
  },
  {
   "cell_type": "code",
   "execution_count": null,
   "id": "357bd45a",
   "metadata": {},
   "outputs": [],
   "source": [
    "T050304.drop(['LINE'], axis = 1, inplace = True)\n",
    "T050307.drop(['LINE'], axis = 1, inplace = True)\n",
    "T010305.drop(['LINE'], axis = 1, inplace = True)\n",
    "T010306.drop(['LINE'], axis = 1, inplace = True)\n",
    "T100304.drop(['LINE'], axis = 1, inplace = True)\n",
    "T100306.drop(['LINE'], axis = 1, inplace = True)"
   ]
  },
  {
   "cell_type": "code",
   "execution_count": null,
   "id": "81ec07dd",
   "metadata": {},
   "outputs": [],
   "source": [
    "T050304_col = []\n",
    "for col in T050304 :\n",
    "    if 'X' in col and T050304[col].isna().sum() == len(T050304) :\n",
    "        T050304_col.append(col)\n",
    "print(len(T050304_col))\n",
    "\n",
    "T050304.drop(T050304_col, inplace = True, axis = 1)"
   ]
  },
  {
   "cell_type": "code",
   "execution_count": null,
   "id": "4cfa9a01",
   "metadata": {},
   "outputs": [],
   "source": [
    "T050307_col = []\n",
    "for col in T050307 :\n",
    "    if 'X' in col and T050307[col].isna().sum() == len(T050307) :\n",
    "        T050307_col.append(col)\n",
    "print(len(T050307_col))\n",
    "\n",
    "T050307.drop(T050307_col, inplace = True, axis = 1)"
   ]
  },
  {
   "cell_type": "code",
   "execution_count": null,
   "id": "0490d219",
   "metadata": {},
   "outputs": [],
   "source": [
    "T010305_col = []\n",
    "for col in T010305 :\n",
    "    if 'X' in col and T010305[col].isna().sum() == len(T010305) :\n",
    "        T010305_col.append(col)\n",
    "print(len(T010305_col))\n",
    "\n",
    "T010305.drop(T010305_col, inplace = True, axis = 1)"
   ]
  },
  {
   "cell_type": "code",
   "execution_count": null,
   "id": "fc7f22fe",
   "metadata": {},
   "outputs": [],
   "source": [
    "T010306_col = []\n",
    "for col in T010306 :\n",
    "    if 'X' in col and T010306[col].isna().sum() == len(T010306) :\n",
    "        T010306_col.append(col)\n",
    "print(len(T010306_col))\n",
    "\n",
    "T010306.drop(T010306_col, inplace = True, axis = 1)"
   ]
  },
  {
   "cell_type": "code",
   "execution_count": null,
   "id": "2b07b69d",
   "metadata": {},
   "outputs": [],
   "source": [
    "T100304_col = []\n",
    "for col in T100304 :\n",
    "    if 'X' in col and T100304[col].isna().sum() == len(T100304) :\n",
    "        T100304_col.append(col)\n",
    "print(len(T100304_col))\n",
    "\n",
    "T100304.drop(T100304_col, inplace = True, axis = 1)"
   ]
  },
  {
   "cell_type": "code",
   "execution_count": null,
   "id": "e9338346",
   "metadata": {},
   "outputs": [],
   "source": [
    "T100306_col = []\n",
    "for col in T100306 :\n",
    "    if 'X' in col and T100306[col].isna().sum() == len(T100306) :\n",
    "        T100306_col.append(col)\n",
    "print(len(T100306_col))\n",
    "\n",
    "T100306.drop(T100306_col, inplace = True, axis = 1)"
   ]
  },
  {
   "cell_type": "code",
   "execution_count": null,
   "id": "bbd8f522",
   "metadata": {},
   "outputs": [],
   "source": [
    "T051 = list(set(T050307_col)-set(T050304_col))\n",
    "T052 = list(set(T050304_col)-set(T050307_col))\n",
    "T5drop = T051 + T052\n",
    "\n",
    "T011 = list(set(T010305_col)-set(T010306_col))\n",
    "T012 = list(set(T010306_col)-set(T010305_col))\n",
    "T0drop = T011 + T012\n",
    "\n",
    "T101 = list(set(T100304_col)-set(T100306_col))\n",
    "T102 = list(set(T100306_col)-set(T100304_col))\n",
    "T1drop = T101 + T102"
   ]
  },
  {
   "cell_type": "code",
   "execution_count": null,
   "id": "fedfd1b4",
   "metadata": {},
   "outputs": [],
   "source": [
    "T05 = pd.concat([T050304, T050307])\n",
    "T01 = pd.concat([T010305, T010306])\n",
    "T10 = pd.concat([T100304, T100306])"
   ]
  },
  {
   "cell_type": "code",
   "execution_count": null,
   "id": "2313aea2",
   "metadata": {},
   "outputs": [],
   "source": [
    "T05.drop(T5drop, inplace = True, axis = 1)\n",
    "T01.drop(T0drop, inplace = True, axis = 1)\n",
    "T10.drop(T1drop, inplace = True, axis = 1)"
   ]
  },
  {
   "cell_type": "code",
   "execution_count": null,
   "id": "d20b2389",
   "metadata": {},
   "outputs": [],
   "source": [
    "T05 = T05.fillna(0)\n",
    "T01 = T01.fillna(0)\n",
    "T10 = T10.fillna(0)"
   ]
  },
  {
   "cell_type": "code",
   "execution_count": null,
   "id": "626a5a48",
   "metadata": {},
   "outputs": [],
   "source": [
    "test_data = pd.read_csv(\"./test.csv\")\n",
    "test_data"
   ]
  },
  {
   "cell_type": "code",
   "execution_count": null,
   "id": "94dc52ef",
   "metadata": {},
   "outputs": [],
   "source": [
    "test_data['YEAR'] =  pd.to_datetime(test_data['TIMESTAMP']).dt.year\n",
    "test_data['MONTH'] =  pd.to_datetime(test_data['TIMESTAMP']).dt.month\n",
    "test_data['DAY'] =  pd.to_datetime(test_data['TIMESTAMP']).dt.day\n",
    "test_data['HOUR'] =  pd.to_datetime(test_data['TIMESTAMP']).dt.hour\n",
    "test_data['MINUTE'] =  pd.to_datetime(test_data['TIMESTAMP']).dt.minute\n",
    "test_data['DAY_OF_WEEK'] =  pd.to_datetime(test_data['TIMESTAMP']).dt.day_name()"
   ]
  },
  {
   "cell_type": "code",
   "execution_count": null,
   "id": "9285e568",
   "metadata": {},
   "outputs": [],
   "source": [
    "test_data = test_data.drop(['MONTH', 'DAY', 'YEAR', 'MINUTE'], axis = 1)"
   ]
  },
  {
   "cell_type": "code",
   "execution_count": null,
   "id": "ed0f5d76",
   "metadata": {},
   "outputs": [],
   "source": [
    "test_data.drop(colls, inplace = True, axis = 1)"
   ]
  },
  {
   "cell_type": "code",
   "execution_count": null,
   "id": "64c318af",
   "metadata": {},
   "outputs": [],
   "source": [
    "test_data.loc[test_data.DAY_OF_WEEK == 'Monday','DAY_OF_WEEK'] = 1\n",
    "test_data.loc[test_data.DAY_OF_WEEK == 'Tuesday','DAY_OF_WEEK'] = 2\n",
    "test_data.loc[test_data.DAY_OF_WEEK == 'Wednesday','DAY_OF_WEEK'] = 3\n",
    "test_data.loc[test_data.DAY_OF_WEEK == 'Thursday','DAY_OF_WEEK'] = 4\n",
    "test_data.loc[test_data.DAY_OF_WEEK == 'Friday','DAY_OF_WEEK'] = 5\n",
    "test_data.loc[test_data.DAY_OF_WEEK == 'Saturday','DAY_OF_WEEK'] = 6\n",
    "test_data.loc[test_data.DAY_OF_WEEK == 'Sunday','DAY_OF_WEEK'] = 7\n",
    "\n",
    "test_data.loc[test_data.PRODUCT_CODE == 'A_31','PRODUCT_CODE'] = 1\n",
    "test_data.loc[test_data.PRODUCT_CODE == 'T_31','PRODUCT_CODE'] = 2\n",
    "test_data.loc[test_data.PRODUCT_CODE == 'O_31','PRODUCT_CODE'] = 3\n",
    "\n",
    "test_data.drop(['PRODUCT_ID', 'TIMESTAMP'], axis = 1, inplace = True)\n",
    "test_data"
   ]
  },
  {
   "cell_type": "code",
   "execution_count": null,
   "id": "2c5e0ceb",
   "metadata": {},
   "outputs": [],
   "source": [
    "TT050304 = test_data[test_data['LINE'] == 'T050304']\n",
    "TT050307 = test_data[test_data['LINE'] == 'T050307']\n",
    "TT010305 = test_data[test_data['LINE'] == 'T010305']\n",
    "TT010306 = test_data[test_data['LINE'] == 'T010306']\n",
    "TT100304 = test_data[test_data['LINE'] == 'T100304']\n",
    "TT100306 = test_data[test_data['LINE'] == 'T100306']\n",
    "TT050304"
   ]
  },
  {
   "cell_type": "code",
   "execution_count": null,
   "id": "7a7372e7",
   "metadata": {},
   "outputs": [],
   "source": [
    "TT050304.drop(['LINE'], axis = 1, inplace = True)\n",
    "TT050307.drop(['LINE'], axis = 1, inplace = True)\n",
    "TT010305.drop(['LINE'], axis = 1, inplace = True)\n",
    "TT010306.drop(['LINE'], axis = 1, inplace = True)\n",
    "TT100304.drop(['LINE'], axis = 1, inplace = True)\n",
    "TT100306.drop(['LINE'], axis = 1, inplace = True)"
   ]
  },
  {
   "cell_type": "code",
   "execution_count": null,
   "id": "34ddac45",
   "metadata": {},
   "outputs": [],
   "source": [
    "TT050304.drop(T050304_col, inplace = True, axis = 1)\n",
    "TT050307.drop(T050307_col, inplace = True, axis = 1)\n",
    "TT010305.drop(T010305_col, inplace = True, axis = 1)\n",
    "TT010306.drop(T010306_col, inplace = True, axis = 1)\n",
    "TT100304.drop(T100304_col, inplace = True, axis = 1)\n",
    "TT100306.drop(T100306_col, inplace = True, axis = 1)\n",
    "TT050304"
   ]
  },
  {
   "cell_type": "code",
   "execution_count": null,
   "id": "e11d6547",
   "metadata": {},
   "outputs": [],
   "source": [
    "TT05 = pd.concat([TT050304, TT050307])\n",
    "TT01 = pd.concat([TT010305, TT010306])\n",
    "TT10 = pd.concat([TT100304, TT100306])"
   ]
  },
  {
   "cell_type": "code",
   "execution_count": null,
   "id": "a814827d",
   "metadata": {},
   "outputs": [],
   "source": [
    "TT05.drop(T5drop, inplace = True, axis = 1)\n",
    "TT01.drop(T0drop, inplace = True, axis = 1)\n",
    "TT10.drop(T1drop, inplace = True, axis = 1)"
   ]
  },
  {
   "cell_type": "code",
   "execution_count": null,
   "id": "8e69ba49",
   "metadata": {},
   "outputs": [],
   "source": [
    "TT05 = TT05.fillna(0)\n",
    "TT01 = TT01.fillna(0)\n",
    "TT10 = TT10.fillna(0)"
   ]
  },
  {
   "cell_type": "code",
   "execution_count": null,
   "id": "69792ee2",
   "metadata": {},
   "outputs": [],
   "source": [
    "T05_class = T05['Y_Class']\n",
    "T05_target = T05['Y_Quality']\n",
    "T05_data = T05.drop(['Y_Class', 'Y_Quality'], axis = 1)"
   ]
  },
  {
   "cell_type": "code",
   "execution_count": null,
   "id": "31134530",
   "metadata": {},
   "outputs": [],
   "source": [
    "T_05c = T05_data.columns\n",
    "T_05scaler = RobustScaler()\n",
    "T_05scaled = T_05scaler.fit_transform(T05_data)\n",
    "T05_data = pd.DataFrame(T_05scaled, columns = T_05c)\n",
    "T05_data"
   ]
  },
  {
   "cell_type": "code",
   "execution_count": null,
   "id": "76cfc98f",
   "metadata": {},
   "outputs": [],
   "source": [
    "T05_y_class = pd.DataFrame(T05_target, columns = ['Y_Quality'])\n",
    "T05_idx = T05_y_class.index\n",
    "T05_y_class = T05_y_class.reset_index()\n",
    "T05_data = pd.concat([T05_data, T05_y_class], axis = 1)\n",
    "T05_data = T05_data.set_index('index')\n",
    "T05_data.drop(['Y_Quality'], axis = 1, inplace = True)\n",
    "T05_data"
   ]
  },
  {
   "cell_type": "code",
   "execution_count": null,
   "id": "4e2be0a9",
   "metadata": {},
   "outputs": [],
   "source": [
    "TT05c = TT05.columns\n",
    "TT05scaled = T_05scaler.transform(TT05)\n",
    "TT05scaled\n",
    "TT05 = pd.DataFrame(TT05scaled, columns = TT05c)\n",
    "TT05"
   ]
  },
  {
   "cell_type": "code",
   "execution_count": null,
   "id": "a5cd6623",
   "metadata": {},
   "outputs": [],
   "source": [
    "T01_class = T01['Y_Class']\n",
    "T01_target = T01['Y_Quality']\n",
    "T01_data = T01.drop(['Y_Class', 'Y_Quality'], axis = 1)\n",
    "T01_data"
   ]
  },
  {
   "cell_type": "code",
   "execution_count": null,
   "id": "db70b4de",
   "metadata": {},
   "outputs": [],
   "source": [
    "T_01c = T01_data.columns\n",
    "T_01scaler = RobustScaler()\n",
    "T_01scaled = T_05scaler.fit_transform(T01_data)\n",
    "T01_data = pd.DataFrame(T_01scaled, columns = T_01c)\n",
    "T01_data"
   ]
  },
  {
   "cell_type": "code",
   "execution_count": null,
   "id": "4455f730",
   "metadata": {},
   "outputs": [],
   "source": [
    "T01_y_class = pd.DataFrame(T01_target, columns = ['Y_Quality'])\n",
    "T01_idx = T01_y_class.index\n",
    "T01_y_class = T01_y_class.reset_index()\n",
    "T01_data = pd.concat([T01_data, T01_y_class], axis = 1)\n",
    "T01_data = T01_data.set_index('index')\n",
    "T01_data.drop(['Y_Quality'], axis = 1, inplace = True)\n",
    "T01_data"
   ]
  },
  {
   "cell_type": "code",
   "execution_count": null,
   "id": "fcc39843",
   "metadata": {},
   "outputs": [],
   "source": [
    "TT01c = TT01.columns\n",
    "TT01scaled = T_01scaler.transform(TT01)\n",
    "TT01 = pd.DataFrame(TT01scaled, columns = TT01c)\n",
    "TT01"
   ]
  },
  {
   "cell_type": "code",
   "execution_count": null,
   "id": "e9560eda",
   "metadata": {},
   "outputs": [],
   "source": [
    "T10_class = T10['Y_Class']\n",
    "T10_target = T10['Y_Quality']\n",
    "T10_data = T10.drop(['Y_Class', 'Y_Quality'], axis = 1)\n",
    "T10_data"
   ]
  },
  {
   "cell_type": "code",
   "execution_count": null,
   "id": "60634cd2",
   "metadata": {},
   "outputs": [],
   "source": [
    "T_10c = T10_data.columns\n",
    "T_10scaler = RobustScaler()\n",
    "T_10scaled = T_10scaler.fit_transform(T10_data)\n",
    "T10_data = pd.DataFrame(T_10scaled, columns = T_10c)\n",
    "T10_data"
   ]
  },
  {
   "cell_type": "code",
   "execution_count": null,
   "id": "132a0247",
   "metadata": {},
   "outputs": [],
   "source": [
    "T10_y_class = pd.DataFrame(T10_target, columns = ['Y_Quality'])\n",
    "T10_idx = T10_y_class.index\n",
    "T10_y_class = T10_y_class.reset_index()\n",
    "T10_data = pd.concat([T10_data, T10_y_class], axis = 1)\n",
    "T10_data = T10_data.set_index('index')\n",
    "T10_data.drop(['Y_Quality'], axis = 1, inplace = True)\n",
    "T10_data"
   ]
  },
  {
   "cell_type": "code",
   "execution_count": null,
   "id": "04d021fe",
   "metadata": {},
   "outputs": [],
   "source": [
    "TT10c = TT10.columns\n",
    "TT10scaled = T_10scaler.transform(TT10)\n",
    "TT10 = pd.DataFrame(TT10scaled, columns = TT10c)\n",
    "TT10"
   ]
  },
  {
   "cell_type": "code",
   "execution_count": null,
   "id": "ab5943a8",
   "metadata": {},
   "outputs": [],
   "source": []
  },
  {
   "cell_type": "code",
   "execution_count": null,
   "id": "4aaec731",
   "metadata": {},
   "outputs": [],
   "source": []
  }
 ],
 "metadata": {
  "kernelspec": {
   "display_name": "Python 3 (ipykernel)",
   "language": "python",
   "name": "python3"
  },
  "language_info": {
   "codemirror_mode": {
    "name": "ipython",
    "version": 3
   },
   "file_extension": ".py",
   "mimetype": "text/x-python",
   "name": "python",
   "nbconvert_exporter": "python",
   "pygments_lexer": "ipython3",
   "version": "3.9.15"
  }
 },
 "nbformat": 4,
 "nbformat_minor": 5
}
