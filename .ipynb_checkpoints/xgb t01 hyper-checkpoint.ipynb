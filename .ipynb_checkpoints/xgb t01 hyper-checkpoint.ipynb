{
 "cells": [
  {
   "cell_type": "code",
   "execution_count": null,
   "id": "a53c85c3",
   "metadata": {},
   "outputs": [],
   "source": [
    "import pandas as pd\n",
    "import numpy as np\n",
    "import matplotlib.pyplot as plt\n",
    "import seaborn as sns\n",
    "import xgboost as xgb\n",
    "import lightgbm as lgb\n",
    "import statsmodels.api as sm\n",
    "import warnings\n",
    "import shap\n",
    "import optuna\n",
    "\n",
    "from tensorflow import feature_column\n",
    "from tensorflow.keras import layers\n",
    "from tqdm.auto import tqdm\n",
    "from pytorch_tabnet.tab_model import TabNetRegressor\n",
    "from sklearn.model_selection import KFold\n",
    "from sklearn.model_selection import cross_validate\n",
    "from sklearn.ensemble import VotingClassifier\n",
    "from sklearn.ensemble import VotingRegressor\n",
    "from sklearn.preprocessing import StandardScaler\n",
    "from sklearn.preprocessing import RobustScaler\n",
    "from sklearn.preprocessing import MinMaxScaler\n",
    "from sklearn.model_selection import StratifiedKFold\n",
    "from pycaret.regression import *\n",
    "from xgboost import XGBRegressor\n",
    "from xgboost import XGBClassifier\n",
    "from sklearn.tree import ExtraTreeClassifier\n",
    "from sklearn.tree import ExtraTreeRegressor\n",
    "from sklearn.experimental import enable_iterative_imputer \n",
    "from sklearn.impute import KNNImputer\n",
    "from sklearn.impute import IterativeImputer\n",
    "from sklearn.ensemble import GradientBoostingClassifier\n",
    "from sklearn.ensemble import GradientBoostingRegressor\n",
    "from sklearn.tree import DecisionTreeClassifier\n",
    "from sklearn.svm import SVC\n",
    "from sklearn.preprocessing import MinMaxScaler\n",
    "from sklearn.preprocessing import OneHotEncoder\n",
    "from sklearn.preprocessing import LabelEncoder\n",
    "from sklearn.model_selection import train_test_split\n",
    "from sklearn.model_selection import GridSearchCV\n",
    "from sklearn.model_selection import RandomizedSearchCV\n",
    "from sklearn.ensemble import RandomForestClassifier\n",
    "from sklearn.ensemble import RandomForestRegressor\n",
    "from catboost import CatBoostClassifier, Pool\n",
    "from sklearn.ensemble import AdaBoostClassifier\n",
    "from sklearn.ensemble import AdaBoostRegressor\n",
    "from catboost import CatBoostRegressor\n",
    "from catboost import CatBoostClassifier\n",
    "from sklearn.metrics import mean_squared_error\n",
    "from sklearn.impute import KNNImputer\n",
    "from sklearn.decomposition import PCA"
   ]
  },
  {
   "cell_type": "code",
   "execution_count": null,
   "id": "c4145d36",
   "metadata": {},
   "outputs": [],
   "source": [
    "warnings.simplefilter(action='ignore')\n",
    "pd.set_option('display.max_columns', None)"
   ]
  },
  {
   "cell_type": "code",
   "execution_count": null,
   "id": "9433afc1",
   "metadata": {},
   "outputs": [],
   "source": [
    "train_data = pd.read_csv(\"./train.csv\")\n",
    "train_data"
   ]
  },
  {
   "cell_type": "code",
   "execution_count": null,
   "id": "158ac3b3",
   "metadata": {},
   "outputs": [],
   "source": [
    "train_data['YEAR'] =  pd.to_datetime(train_data['TIMESTAMP']).dt.year\n",
    "train_data['MONTH'] =  pd.to_datetime(train_data['TIMESTAMP']).dt.month\n",
    "train_data['DAY'] =  pd.to_datetime(train_data['TIMESTAMP']).dt.day\n",
    "train_data['HOUR'] =  pd.to_datetime(train_data['TIMESTAMP']).dt.hour\n",
    "train_data['MINUTE'] =  pd.to_datetime(train_data['TIMESTAMP']).dt.minute\n",
    "train_data['DAY_OF_WEEK'] =  pd.to_datetime(train_data['TIMESTAMP']).dt.day_name()"
   ]
  },
  {
   "cell_type": "code",
   "execution_count": null,
   "id": "f8fd0cce",
   "metadata": {},
   "outputs": [],
   "source": [
    "train_data = train_data.drop(['MONTH', 'DAY', 'YEAR', 'MINUTE'], axis = 1)"
   ]
  },
  {
   "cell_type": "code",
   "execution_count": null,
   "id": "8538f84d",
   "metadata": {},
   "outputs": [],
   "source": [
    "colls = []\n",
    "for coll in train_data :\n",
    "    if 'X' in coll and train_data[coll].isna().sum() == 598 :\n",
    "        colls.append(coll)\n",
    "print(len(colls))"
   ]
  },
  {
   "cell_type": "code",
   "execution_count": null,
   "id": "7cfaafc8",
   "metadata": {},
   "outputs": [],
   "source": [
    "train_data.drop(colls, inplace = True, axis = 1)"
   ]
  },
  {
   "cell_type": "code",
   "execution_count": null,
   "id": "54dc3f27",
   "metadata": {},
   "outputs": [],
   "source": [
    "train_data.loc[train_data.PRODUCT_CODE == 'A_31','PRODUCT_CODE'] = 1\n",
    "train_data.loc[train_data.PRODUCT_CODE == 'T_31','PRODUCT_CODE'] = 2\n",
    "train_data.loc[train_data.PRODUCT_CODE == 'O_31','PRODUCT_CODE'] = 3\n",
    "\n",
    "train_data.loc[train_data.DAY_OF_WEEK == 'Monday','DAY_OF_WEEK'] = 1\n",
    "train_data.loc[train_data.DAY_OF_WEEK == 'Tuesday','DAY_OF_WEEK'] = 2\n",
    "train_data.loc[train_data.DAY_OF_WEEK == 'Wednesday','DAY_OF_WEEK'] = 3\n",
    "train_data.loc[train_data.DAY_OF_WEEK == 'Thursday','DAY_OF_WEEK'] = 4\n",
    "train_data.loc[train_data.DAY_OF_WEEK == 'Friday','DAY_OF_WEEK'] = 5\n",
    "train_data.loc[train_data.DAY_OF_WEEK == 'Saturday','DAY_OF_WEEK'] = 6\n",
    "train_data.loc[train_data.DAY_OF_WEEK == 'Sunday','DAY_OF_WEEK'] = 7\n",
    "\n",
    "train_data.drop(['PRODUCT_ID', 'TIMESTAMP'], axis = 1, inplace = True)\n",
    "train_data"
   ]
  },
  {
   "cell_type": "code",
   "execution_count": null,
   "id": "fcf69d26",
   "metadata": {},
   "outputs": [],
   "source": [
    "T050304 = train_data[train_data['LINE'] == 'T050304']\n",
    "T050307 = train_data[train_data['LINE'] == 'T050307']\n",
    "T010305 = train_data[train_data['LINE'] == 'T010305']\n",
    "T010306 = train_data[train_data['LINE'] == 'T010306']\n",
    "T100304 = train_data[train_data['LINE'] == 'T100304']\n",
    "T100306 = train_data[train_data['LINE'] == 'T100306']"
   ]
  },
  {
   "cell_type": "code",
   "execution_count": null,
   "id": "2fe44a9a",
   "metadata": {},
   "outputs": [],
   "source": [
    "T050304.drop(['LINE'], axis = 1, inplace = True)\n",
    "T050307.drop(['LINE'], axis = 1, inplace = True)\n",
    "T010305.drop(['LINE'], axis = 1, inplace = True)\n",
    "T010306.drop(['LINE'], axis = 1, inplace = True)\n",
    "T100304.drop(['LINE'], axis = 1, inplace = True)\n",
    "T100306.drop(['LINE'], axis = 1, inplace = True)"
   ]
  },
  {
   "cell_type": "code",
   "execution_count": null,
   "id": "da32b8b1",
   "metadata": {},
   "outputs": [],
   "source": [
    "T050304_col = []\n",
    "for col in T050304 :\n",
    "    if 'X' in col and T050304[col].isna().sum() == len(T050304) :\n",
    "        T050304_col.append(col)\n",
    "print(len(T050304_col))\n",
    "\n",
    "T050304.drop(T050304_col, inplace = True, axis = 1)"
   ]
  },
  {
   "cell_type": "code",
   "execution_count": null,
   "id": "86f1b355",
   "metadata": {},
   "outputs": [],
   "source": [
    "T050307_col = []\n",
    "for col in T050307 :\n",
    "    if 'X' in col and T050307[col].isna().sum() == len(T050307) :\n",
    "        T050307_col.append(col)\n",
    "print(len(T050307_col))\n",
    "\n",
    "T050307.drop(T050307_col, inplace = True, axis = 1)"
   ]
  },
  {
   "cell_type": "code",
   "execution_count": null,
   "id": "569d0a15",
   "metadata": {},
   "outputs": [],
   "source": [
    "T010305_col = []\n",
    "for col in T010305 :\n",
    "    if 'X' in col and T010305[col].isna().sum() == len(T010305) :\n",
    "        T010305_col.append(col)\n",
    "print(len(T010305_col))\n",
    "\n",
    "T010305.drop(T010305_col, inplace = True, axis = 1)"
   ]
  },
  {
   "cell_type": "code",
   "execution_count": null,
   "id": "d3737889",
   "metadata": {},
   "outputs": [],
   "source": [
    "T010306_col = []\n",
    "for col in T010306 :\n",
    "    if 'X' in col and T010306[col].isna().sum() == len(T010306) :\n",
    "        T010306_col.append(col)\n",
    "print(len(T010306_col))\n",
    "\n",
    "T010306.drop(T010306_col, inplace = True, axis = 1)"
   ]
  },
  {
   "cell_type": "code",
   "execution_count": null,
   "id": "8525abc1",
   "metadata": {},
   "outputs": [],
   "source": [
    "T100304_col = []\n",
    "for col in T100304 :\n",
    "    if 'X' in col and T100304[col].isna().sum() == len(T100304) :\n",
    "        T100304_col.append(col)\n",
    "print(len(T100304_col))\n",
    "\n",
    "T100304.drop(T100304_col, inplace = True, axis = 1)"
   ]
  },
  {
   "cell_type": "code",
   "execution_count": null,
   "id": "21ea952d",
   "metadata": {},
   "outputs": [],
   "source": [
    "T100306_col = []\n",
    "for col in T100306 :\n",
    "    if 'X' in col and T100306[col].isna().sum() == len(T100306) :\n",
    "        T100306_col.append(col)\n",
    "print(len(T100306_col))\n",
    "\n",
    "T100306.drop(T100306_col, inplace = True, axis = 1)"
   ]
  },
  {
   "cell_type": "code",
   "execution_count": null,
   "id": "07928aab",
   "metadata": {},
   "outputs": [],
   "source": [
    "T051 = list(set(T050307_col)-set(T050304_col))\n",
    "T052 = list(set(T050304_col)-set(T050307_col))\n",
    "T5drop = T051 + T052\n",
    "\n",
    "T011 = list(set(T010305_col)-set(T010306_col))\n",
    "T012 = list(set(T010306_col)-set(T010305_col))\n",
    "T0drop = T011 + T012\n",
    "\n",
    "T101 = list(set(T100304_col)-set(T100306_col))\n",
    "T102 = list(set(T100306_col)-set(T100304_col))\n",
    "T1drop = T101 + T102"
   ]
  },
  {
   "cell_type": "code",
   "execution_count": null,
   "id": "0d8dab63",
   "metadata": {},
   "outputs": [],
   "source": [
    "T05 = pd.concat([T050304, T050307])\n",
    "T01 = pd.concat([T010305, T010306])\n",
    "T10 = pd.concat([T100304, T100306])"
   ]
  },
  {
   "cell_type": "code",
   "execution_count": null,
   "id": "11ceb7c0",
   "metadata": {},
   "outputs": [],
   "source": [
    "T05.drop(T5drop, inplace = True, axis = 1)\n",
    "T01.drop(T0drop, inplace = True, axis = 1)\n",
    "T10.drop(T1drop, inplace = True, axis = 1)"
   ]
  },
  {
   "cell_type": "code",
   "execution_count": null,
   "id": "49703d29",
   "metadata": {},
   "outputs": [],
   "source": [
    "T05 = T05.fillna(0)\n",
    "T01 = T01.fillna(0)\n",
    "T10 = T10.fillna(0)"
   ]
  },
  {
   "cell_type": "code",
   "execution_count": null,
   "id": "6f4c3cbd",
   "metadata": {},
   "outputs": [],
   "source": [
    "T01_class = T01['Y_Class']\n",
    "T01_target = T01['Y_Quality']\n",
    "T01_data = T01.drop(['Y_Class', 'Y_Quality'], axis = 1)\n",
    "T01_data"
   ]
  },
  {
   "cell_type": "code",
   "execution_count": null,
   "id": "7c4d7169",
   "metadata": {},
   "outputs": [],
   "source": [
    "T_01c = T01_data.columns\n",
    "T_01scaler = RobustScaler()\n",
    "T_01scaled = T_05scaler.fit_transform(T01_data)\n",
    "T01_data = pd.DataFrame(T_01scaled, columns = T_01c)\n",
    "T01_data"
   ]
  },
  {
   "cell_type": "code",
   "execution_count": null,
   "id": "1a90a522",
   "metadata": {},
   "outputs": [],
   "source": [
    "T01_y_class = pd.DataFrame(T01_target, columns = ['Y_Quality'])\n",
    "T01_idx = T01_y_class.index\n",
    "T01_y_class = T01_y_class.reset_index()\n",
    "T01_data = pd.concat([T01_data, T01_y_class], axis = 1)\n",
    "T01_data = T01_data.set_index('index')\n",
    "T01_data.drop(['Y_Quality'], axis = 1, inplace = True)\n",
    "T01_data"
   ]
  },
  {
   "cell_type": "code",
   "execution_count": null,
   "id": "f7fec02f",
   "metadata": {},
   "outputs": [],
   "source": [
    "T01_xtrain, T01_xtest, T01_ytrain, T01_ytest = train_test_split(T01_data, T01_target, test_size = 0.1, random_state = 4)"
   ]
  },
  {
   "cell_type": "code",
   "execution_count": null,
   "id": "ddf15815",
   "metadata": {},
   "outputs": [],
   "source": [
    "xgb_reg = XGBRegressor(random_state = 4, n_jobs = -1)\n",
    "\n",
    "params = {\n",
    "    'max_depth':[3, 4, 6, 7, 8, 9, 10],\n",
    "    'min_child_weight':[0.8, 1.0, 1.2],\n",
    "    'colsample_bytree':[0.8, 1.0, 1.2],\n",
    "    'n_estimators':[100, 500, 1000, 2000],\n",
    "    'learning_rate' : [0.05, 0.1, 0.2]\n",
    "}\n",
    "\n",
    "T01_reg_grid = GridSearchCV(xgb_reg, param_grid = params, cv = 5, n_jobs = -1, verbose = 1)\n",
    "T01_reg_grid.fit(T01_xtrain, T01_ytrain)\n",
    "\n",
    "print('최적 하이퍼 파라미터: ', T01_reg_grid.best_params_)\n",
    "print('최고 예측 정확도 : ', round(T01_reg_grid.best_score_, 4))"
   ]
  },
  {
   "cell_type": "code",
   "execution_count": null,
   "id": "5293631f",
   "metadata": {},
   "outputs": [],
   "source": []
  },
  {
   "cell_type": "code",
   "execution_count": null,
   "id": "b557046f",
   "metadata": {},
   "outputs": [],
   "source": []
  },
  {
   "cell_type": "code",
   "execution_count": null,
   "id": "4379a1fc",
   "metadata": {},
   "outputs": [],
   "source": []
  }
 ],
 "metadata": {
  "kernelspec": {
   "display_name": "Python 3 (ipykernel)",
   "language": "python",
   "name": "python3"
  },
  "language_info": {
   "codemirror_mode": {
    "name": "ipython",
    "version": 3
   },
   "file_extension": ".py",
   "mimetype": "text/x-python",
   "name": "python",
   "nbconvert_exporter": "python",
   "pygments_lexer": "ipython3",
   "version": "3.9.15"
  }
 },
 "nbformat": 4,
 "nbformat_minor": 5
}
