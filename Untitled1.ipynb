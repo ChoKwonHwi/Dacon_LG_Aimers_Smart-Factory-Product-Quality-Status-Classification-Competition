{
 "cells": [
  {
   "cell_type": "code",
   "execution_count": null,
   "id": "057bc584",
   "metadata": {},
   "outputs": [],
   "source": [
    "T05_vote_regressor_models = [\n",
    "    ('ada',  T05_model_ada),\n",
    "    ('lightgbm', T05_model_lightgbm),\n",
    "    ('rf', T05_model_rf),\n",
    "    ('gbc', T05_model_gbr),\n",
    "    ('et', T05_model_et),\n",
    "    ('cat', T05_model_catboost),\n",
    "    ('xgb', T05_model_xgb),\n",
    "]"
   ]
  },
  {
   "cell_type": "code",
   "execution_count": null,
   "id": "e7ed95ca",
   "metadata": {},
   "outputs": [],
   "source": [
    "T05_vote_regressor = VotingRegressor(estimators = T05_vote_regressor_models)\n",
    "#soft_vote_cv = cross_validate(soft_vote, T01_datas, T01_class, cv = KFold)\n",
    "#soft_vote.fit(T05_datas, T05_class)"
   ]
  },
  {
   "cell_type": "code",
   "execution_count": null,
   "id": "a842e1e6",
   "metadata": {},
   "outputs": [],
   "source": [
    "# Importing cross validation module\n",
    "from sklearn.model_selection import cross_val_score\n",
    "\n",
    "# Calculate cross validation score for the Voting regresssor\n",
    "scores = cross_val_score(T05_vote_regressor, T05_datas, T05_target,\n",
    "                         scoring=\"neg_mean_squared_error\", cv=10)"
   ]
  },
  {
   "cell_type": "code",
   "execution_count": null,
   "id": "3485d4c2",
   "metadata": {},
   "outputs": [],
   "source": [
    "n = np.sqrt(-scores)\n",
    "print(n.mean())"
   ]
  },
  {
   "cell_type": "code",
   "execution_count": null,
   "id": "db07ba7a",
   "metadata": {},
   "outputs": [],
   "source": [
    "T05_vote_regressor.fit(T05_data, T05_target)\n",
    "T05_pred = T05_vote_regressor.predict(T05_data)"
   ]
  },
  {
   "cell_type": "code",
   "execution_count": null,
   "id": "188b77ec",
   "metadata": {},
   "outputs": [],
   "source": [
    "T05_datas = pd.DataFrame(T05_pred, columns = ['Y_Quality'])"
   ]
  },
  {
   "cell_type": "code",
   "execution_count": null,
   "id": "3cc0b925",
   "metadata": {},
   "outputs": [],
   "source": [
    "T05_final_regression_model = finalize_model(T05_model_et)"
   ]
  },
  {
   "cell_type": "code",
   "execution_count": null,
   "id": "1e906dca",
   "metadata": {},
   "outputs": [],
   "source": []
  },
  {
   "cell_type": "code",
   "execution_count": null,
   "id": "490c7f22",
   "metadata": {},
   "outputs": [],
   "source": [
    "T05_vote_classification_models = [\n",
    "    ('ada',  T05_model_ada),\n",
    "    ('lightgbm', T05_model_lightgbm),\n",
    "    ('rf', T05_model_rf),\n",
    "    ('gbc', T05_model_gbc),\n",
    "    ('et', T05_model_et),\n",
    "    ('cat', T05_model_catboost),\n",
    "    ('xgb', T05_model_xgb),\n",
    "]"
   ]
  },
  {
   "cell_type": "code",
   "execution_count": null,
   "id": "6a881b3a",
   "metadata": {},
   "outputs": [],
   "source": [
    "T05_soft_vote = VotingClassifier(T05_vote_classification_models, voting = 'soft')\n",
    "#soft_vote_cv = cross_validate(soft_vote, T01_datas, T01_class, cv = KFold)\n",
    "T05_soft_vote.fit(T05_datas, T05_class)"
   ]
  },
  {
   "cell_type": "code",
   "execution_count": null,
   "id": "98c5cfec",
   "metadata": {},
   "outputs": [],
   "source": [
    "T05_prediction = pd.DataFrame(T05_soft_vote.predict(T05_datas), columns = ['prediction_label'])\n",
    "T05_prediction"
   ]
  },
  {
   "cell_type": "code",
   "execution_count": null,
   "id": "d09479c0",
   "metadata": {},
   "outputs": [],
   "source": []
  },
  {
   "cell_type": "code",
   "execution_count": null,
   "id": "e9a09e4f",
   "metadata": {},
   "outputs": [],
   "source": []
  },
  {
   "cell_type": "code",
   "execution_count": null,
   "id": "3a9d2a07",
   "metadata": {},
   "outputs": [],
   "source": []
  },
  {
   "cell_type": "code",
   "execution_count": null,
   "id": "ea684e4b",
   "metadata": {},
   "outputs": [],
   "source": []
  },
  {
   "cell_type": "code",
   "execution_count": null,
   "id": "042d165b",
   "metadata": {},
   "outputs": [],
   "source": []
  },
  {
   "cell_type": "code",
   "execution_count": null,
   "id": "044814db",
   "metadata": {},
   "outputs": [],
   "source": []
  }
 ],
 "metadata": {
  "kernelspec": {
   "display_name": "Python 3 (ipykernel)",
   "language": "python",
   "name": "python3"
  },
  "language_info": {
   "codemirror_mode": {
    "name": "ipython",
    "version": 3
   },
   "file_extension": ".py",
   "mimetype": "text/x-python",
   "name": "python",
   "nbconvert_exporter": "python",
   "pygments_lexer": "ipython3",
   "version": "3.9.15"
  }
 },
 "nbformat": 4,
 "nbformat_minor": 5
}
